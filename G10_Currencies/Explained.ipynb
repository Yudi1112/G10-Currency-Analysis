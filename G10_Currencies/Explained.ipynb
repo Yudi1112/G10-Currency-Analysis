{
 "cells": [
  {
   "cell_type": "markdown",
   "id": "745863ba-a75b-4708-b684-eb37f7328681",
   "metadata": {
    "editable": true,
    "slideshow": {
     "slide_type": ""
    },
    "tags": []
   },
   "source": [
    "# Which of the G10 currencies is the riskiest to hold for a Swiss resident?"
   ]
  },
  {
   "cell_type": "markdown",
   "id": "60881dc8-beba-41b3-abc6-29ecee6958db",
   "metadata": {
    "editable": true,
    "slideshow": {
     "slide_type": ""
    },
    "tags": []
   },
   "source": [
    "## 1. Intro"
   ]
  },
  {
   "cell_type": "markdown",
   "id": "671f0313-e0c5-4a81-8a6e-ecc92325f22a",
   "metadata": {},
   "source": [
    "This notebook seeks to answer the question: Which of the G10 is the riskiest to hold for a Swiss resident? As such we will analyse exchange rates of  the Swiss Frank compared to the other currencies and find indicators that will help us answer this question. We will find that it depends on the definition of risk. The reasoning will be accompanied by graphs and charts to illustrate our findings. "
   ]
  },
  {
   "cell_type": "markdown",
   "id": "9205aea7-d615-4148-a135-65c5693532ed",
   "metadata": {},
   "source": [
    "**Please find an overview of the G10 currencies here:**\n",
    "\n",
    "United States Dollar (USD)\n",
    "\n",
    "Euro (EUR)\n",
    "\n",
    "Pound Sterling (GBP)\n",
    "\n",
    "Japanese Yen (JPY)\n",
    "\n",
    "Australian Dollar (AUD)\n",
    "\n",
    "New Zealand Dollar (NZD)\n",
    "\n",
    "Canadian Dollar (CAD)\n",
    "\n",
    "Swiss Franc (CHF)\n",
    "\n",
    "Norwegian Krone (NOK)\n",
    "\n",
    "Swedish Krona (SEK)"
   ]
  },
  {
   "cell_type": "markdown",
   "id": "3a2a33e6-cb67-4db7-9749-bfb1dbfa547f",
   "metadata": {
    "editable": true,
    "slideshow": {
     "slide_type": ""
    },
    "tags": []
   },
   "source": [
    "## 2. Data"
   ]
  },
  {
   "cell_type": "markdown",
   "id": "d137ff37-2a95-4f79-91b7-a13c706fe11b",
   "metadata": {
    "editable": true,
    "slideshow": {
     "slide_type": ""
    },
    "tags": []
   },
   "source": [
    "The **monthly** exchange rates were downloaded from investing.com starting from **01/01/2000** until **30/11/2024**. From an initial analysis you can see that the Swiss Frank (CHF) has appreciated against all currencies. You can find an overview of the exchange rates below:"
   ]
  },
  {
   "cell_type": "code",
   "execution_count": 3,
   "id": "befdb05a-6a79-4539-a1cc-f630cf55b920",
   "metadata": {},
   "outputs": [
    {
     "data": {
      "application/vnd.jupyter.widget-view+json": {
       "model_id": "7a0f5d51d2334d7c99b1dff08cacce98",
       "version_major": 2,
       "version_minor": 0
      },
      "text/plain": [
       "interactive(children=(Dropdown(description='Currency:', options=('CHF_AUD Historical Data', 'CHF_CAD Historica…"
      ]
     },
     "metadata": {},
     "output_type": "display_data"
    },
    {
     "data": {
      "text/plain": [
       "<function project.charts.exchange_rates.plot_currency_chart(currency)>"
      ]
     },
     "execution_count": 3,
     "metadata": {},
     "output_type": "execute_result"
    }
   ],
   "source": [
    "from ipywidgets import interact, Dropdown\n",
    "from project.charts.exchange_rates import plot_currency_chart\n",
    "from project import config\n",
    "\n",
    "# List available currencies based on files in the processed data directory\n",
    "currency_files = config.PROCESSED_DATA_DIR.glob(\"*.csv\")\n",
    "currencies = [file.stem for file in currency_files]\n",
    "\n",
    "# Create a dropdown menu for currency selection\n",
    "dropdown = Dropdown(\n",
    "    options=currencies,\n",
    "    description=\"Currency:\",\n",
    "    value=currencies[0] if currencies else None,\n",
    ")\n",
    "\n",
    "# Link the dropdown to the plot function\n",
    "interact(plot_currency_chart, currency=dropdown)\n",
    "\n"
   ]
  },
  {
   "cell_type": "markdown",
   "id": "deb84b38-7398-4e90-84be-996089e3843f",
   "metadata": {},
   "source": [
    "## 3. Analysis"
   ]
  },
  {
   "cell_type": "markdown",
   "id": "af48b26d-89a7-40cf-a18c-d588166e989d",
   "metadata": {},
   "source": [
    "In this section we analysed a few financial indicators that depict risk. "
   ]
  },
  {
   "cell_type": "markdown",
   "id": "3aabedf7-b82e-4fd7-9cda-23c3dcce2dab",
   "metadata": {},
   "source": [
    "### 3.1 Depreciation\n",
    "\n",
    "This section shows how much you would have lost, if you bought a foreign currency with CHF. Depending on which year you invested, the \"riskiest\" currency changes. Please find a table below: "
   ]
  }
 ],
 "metadata": {
  "kernelspec": {
   "display_name": "Python 3 (ipykernel)",
   "language": "python",
   "name": "python3"
  },
  "language_info": {
   "codemirror_mode": {
    "name": "ipython",
    "version": 3
   },
   "file_extension": ".py",
   "mimetype": "text/x-python",
   "name": "python",
   "nbconvert_exporter": "python",
   "pygments_lexer": "ipython3",
   "version": "3.13.0"
  },
  "toc": {
   "base_numbering": 1
  }
 },
 "nbformat": 4,
 "nbformat_minor": 5
}
