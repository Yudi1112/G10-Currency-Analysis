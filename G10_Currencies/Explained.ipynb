{
 "cells": [
  {
   "cell_type": "markdown",
   "id": "745863ba-a75b-4708-b684-eb37f7328681",
   "metadata": {
    "editable": true,
    "slideshow": {
     "slide_type": ""
    },
    "tags": []
   },
   "source": [
    "# Which of the G10 currencies is the riskiest to hold for a Swiss resident?"
   ]
  },
  {
   "cell_type": "markdown",
   "id": "60881dc8-beba-41b3-abc6-29ecee6958db",
   "metadata": {
    "editable": true,
    "slideshow": {
     "slide_type": ""
    },
    "tags": []
   },
   "source": [
    "## 1. Intro"
   ]
  },
  {
   "cell_type": "markdown",
   "id": "671f0313-e0c5-4a81-8a6e-ecc92325f22a",
   "metadata": {},
   "source": [
    "This notebook seeks to answer the question: Which of the G10 is the riskiest to hold for a Swiss resident? As such we will analyse exchange rates of  the Swiss Frank compared to the other currencies and find indicators that will help us answer this question. We will find that it depends on the definition of risk. The reasoning will be accompanied by graphs and charts to illustrate our findings. "
   ]
  },
  {
   "cell_type": "markdown",
   "id": "9205aea7-d615-4148-a135-65c5693532ed",
   "metadata": {},
   "source": [
    "**Please find an overview of the G10 currencies here:**\n",
    "\n",
    "United States Dollar (USD)\n",
    "\n",
    "Euro (EUR)\n",
    "\n",
    "Pound Sterling (GBP)\n",
    "\n",
    "Japanese Yen (JPY)\n",
    "\n",
    "Australian Dollar (AUD)\n",
    "\n",
    "New Zealand Dollar (NZD)\n",
    "\n",
    "Canadian Dollar (CAD)\n",
    "\n",
    "Swiss Franc (CHF)\n",
    "\n",
    "Norwegian Krone (NOK)\n",
    "\n",
    "Swedish Krona (SEK)"
   ]
  },
  {
   "cell_type": "markdown",
   "id": "3a2a33e6-cb67-4db7-9749-bfb1dbfa547f",
   "metadata": {
    "editable": true,
    "slideshow": {
     "slide_type": ""
    },
    "tags": []
   },
   "source": [
    "## 2. Data"
   ]
  },
  {
   "cell_type": "markdown",
   "id": "d137ff37-2a95-4f79-91b7-a13c706fe11b",
   "metadata": {
    "editable": true,
    "slideshow": {
     "slide_type": ""
    },
    "tags": []
   },
   "source": [
    "The **monthly** exchange rates were downloaded from investing.com starting from **01/01/2000** until **30/11/2024**. From an initial analysis you can see that the Swiss Frank (CHF) has appreciated against all currencies. You can find an overview of the exchange rates below:"
   ]
  },
  {
   "cell_type": "code",
   "execution_count": 1,
   "id": "befdb05a-6a79-4539-a1cc-f630cf55b920",
   "metadata": {},
   "outputs": [
    {
     "data": {
      "application/vnd.jupyter.widget-view+json": {
       "model_id": "89a892d54ffe49d898b19a195eb3cc59",
       "version_major": 2,
       "version_minor": 0
      },
      "text/plain": [
       "interactive(children=(Dropdown(description='Currency:', options=('CHF_AUD Historical Data', 'CHF_CAD Historica…"
      ]
     },
     "metadata": {},
     "output_type": "display_data"
    },
    {
     "data": {
      "text/plain": [
       "<function project.charts.exchange_rates.plot_currency_chart(currency)>"
      ]
     },
     "execution_count": 1,
     "metadata": {},
     "output_type": "execute_result"
    }
   ],
   "source": [
    "from ipywidgets import interact, Dropdown\n",
    "from project.charts.exchange_rates import plot_currency_chart\n",
    "from project import config\n",
    "\n",
    "# List available currencies based on files in the processed data directory\n",
    "currency_files = config.PROCESSED_DATA_DIR.glob(\"*.csv\")\n",
    "currencies = [file.stem for file in currency_files]\n",
    "\n",
    "# Create a dropdown menu for currency selection\n",
    "dropdown = Dropdown(\n",
    "    options=currencies,\n",
    "    description=\"Currency:\",\n",
    "    value=currencies[0] if currencies else None,\n",
    ")\n",
    "\n",
    "# Link the dropdown to the plot function\n",
    "interact(plot_currency_chart, currency=dropdown)\n",
    "\n"
   ]
  },
  {
   "cell_type": "markdown",
   "id": "deb84b38-7398-4e90-84be-996089e3843f",
   "metadata": {},
   "source": [
    "## 3. Analysis"
   ]
  },
  {
   "cell_type": "markdown",
   "id": "af48b26d-89a7-40cf-a18c-d588166e989d",
   "metadata": {},
   "source": [
    "In this section we analyse a few financial indicators that depict risk. "
   ]
  },
  {
   "cell_type": "markdown",
   "id": "3aabedf7-b82e-4fd7-9cda-23c3dcce2dab",
   "metadata": {},
   "source": [
    "### 3.1 Depreciation\n",
    "\n",
    "This section shows how much you would have lost, if you bought a foreign currency with CHF. As you can tell by changing the year, the \"riskiest\" currency changes dependig on which year you invested. Generally it seems to pivot between the Norwegian Krone (NOK) and the Japanese Yen (JPY). Please find a bar chart below (Adjust the slider to see which currency was the \"riskiest\" each year): "
   ]
  },
  {
   "cell_type": "code",
   "execution_count": 5,
   "id": "cd5bfed4-57e9-4d7f-b3b7-afa748ea51e1",
   "metadata": {},
   "outputs": [
    {
     "data": {
      "application/vnd.jupyter.widget-view+json": {
       "model_id": "62c3b33cc7c349688c5563cb56b5bc75",
       "version_major": 2,
       "version_minor": 0
      },
      "text/plain": [
       "IntRangeSlider(value=(2000, 2024), continuous_update=False, description='Years', max=2024, min=2000)"
      ]
     },
     "metadata": {},
     "output_type": "display_data"
    },
    {
     "data": {
      "application/vnd.jupyter.widget-view+json": {
       "model_id": "1828f5fb56ee4e4397d75a97a688c61f",
       "version_major": 2,
       "version_minor": 0
      },
      "text/plain": [
       "Output()"
      ]
     },
     "metadata": {},
     "output_type": "display_data"
    }
   ],
   "source": [
    "import ipywidgets as widgets\n",
    "from IPython.display import display, clear_output\n",
    "from project.charts.depreciation_bar_chart import plot_depreciation_bar_chart\n",
    "\n",
    "# Create a range slider for selecting start and end years\n",
    "range_slider = widgets.IntRangeSlider(\n",
    "    value=[2000, 2024],  # Initial range for start and end years\n",
    "    min=2000,            # Minimum year\n",
    "    max=2024,            # Maximum year\n",
    "    step=1,              # Step size\n",
    "    description=\"Years\",\n",
    "    continuous_update=False,  # Update only after release of slider\n",
    "    orientation=\"horizontal\",  # Horizontal slider\n",
    "    readout=True,              # Show values\n",
    "    readout_format=\"d\"         # Integer format\n",
    ")\n",
    "\n",
    "# Function to dynamically update the plot\n",
    "def update_plot(years):\n",
    "    \"\"\"\n",
    "    Update the plot based on the selected range of years.\n",
    "    \"\"\"\n",
    "    start_year, end_year = years  # Unpack slider values\n",
    "    clear_output(wait=True)  # Clear previous output\n",
    "    plot_depreciation_bar_chart(start_year, end_year)  # Call the plot function\n",
    "\n",
    "# Link the range slider to the update_plot function\n",
    "interactive_output = widgets.interactive_output(update_plot, {'years': range_slider})\n",
    "\n",
    "# Display the slider and the interactive output\n",
    "display(range_slider, interactive_output)\n"
   ]
  },
  {
   "cell_type": "markdown",
   "id": "859434b1-4c72-4026-b566-d6aefebefcb1",
   "metadata": {},
   "source": [
    "### 3.2 Volatility"
   ]
  },
  {
   "cell_type": "markdown",
   "id": "da02eec3-abe0-42cb-86e6-e715c0ca8e89",
   "metadata": {},
   "source": [
    "Volatility is how much and how quickly prices move over a given span of time. In the stock market, increased volatility is often a sign of fear and uncertainty among investors. Here we show which exchange rate was the most volitile over a certain time period. Again you are able to adjust the slider to determine which was the most volitile.\n"
   ]
  },
  {
   "cell_type": "code",
   "execution_count": 9,
   "id": "f88f5a11-90bf-45d1-9518-4522e78456d4",
   "metadata": {},
   "outputs": [
    {
     "data": {
      "application/vnd.jupyter.widget-view+json": {
       "model_id": "bc8a29d7e1d44477a5aa078773647ad7",
       "version_major": 2,
       "version_minor": 0
      },
      "text/plain": [
       "IntRangeSlider(value=(2000, 2024), continuous_update=False, description='Years', max=2024, min=2000)"
      ]
     },
     "metadata": {},
     "output_type": "display_data"
    },
    {
     "data": {
      "application/vnd.jupyter.widget-view+json": {
       "model_id": "50a4a374670141c8b5d2df87e623bef4",
       "version_major": 2,
       "version_minor": 0
      },
      "text/plain": [
       "Output()"
      ]
     },
     "metadata": {},
     "output_type": "display_data"
    }
   ],
   "source": [
    "import ipywidgets as widgets\n",
    "from IPython.display import display, clear_output\n",
    "from project.charts.volatility_bar_chart import plot_volatility_bar_chart\n",
    "\n",
    "# Create a range slider for selecting start and end years\n",
    "range_slider = widgets.IntRangeSlider(\n",
    "    value=[2000, 2024],  # Initial range for start and end years\n",
    "    min=2000,            # Minimum year\n",
    "    max=2024,            # Maximum year\n",
    "    step=1,              # Step size\n",
    "    description=\"Years\",\n",
    "    continuous_update=False,  # Update only after release of slider\n",
    "    orientation=\"horizontal\",  # Horizontal slider\n",
    "    readout=True,              # Show values\n",
    "    readout_format=\"d\"         # Integer format\n",
    ")\n",
    "\n",
    "# Function to dynamically update the plot\n",
    "def update_volatility_plot(years):\n",
    "    \"\"\"\n",
    "    Update the plot based on the selected range of years.\n",
    "    \"\"\"\n",
    "    start_year, end_year = years  # Unpack slider values\n",
    "    clear_output(wait=True)  # Clear previous output\n",
    "    plot_volatility_bar_chart(start_year, end_year)  # Call the plot function\n",
    "\n",
    "# Link the range slider to the update_plot function\n",
    "interactive_output = widgets.interactive_output(update_volatility_plot, {'years': range_slider})\n",
    "\n",
    "# Display the slider and the interactive output\n",
    "display(range_slider, interactive_output)"
   ]
  },
  {
   "cell_type": "markdown",
   "id": "ca2e5052",
   "metadata": {},
   "source": [
    "### 3.3 Maximum Drawdown"
   ]
  },
  {
   "cell_type": "markdown",
   "id": "12647a66",
   "metadata": {},
   "source": [
    "Maximum Drawdown (MDD) is a financial metric that measures the largest peak-to-trough decline in the value of an asset, portfolio, or investment over a specific time period. It reflects the worst loss an investor could experience before a recovery to the previous peak. MDD is expressed as a percentage, calculated by dividing the difference between the peak value and the trough value by the peak value. It is often used to assess the risk and volatility of an investment strategy, highlighting the potential downside during adverse market conditions."
   ]
  },
  {
   "cell_type": "code",
   "execution_count": 5,
   "id": "625cfa0c-4089-4136-8cbe-c81750fcb921",
   "metadata": {},
   "outputs": [
    {
     "data": {
      "application/vnd.jupyter.widget-view+json": {
       "model_id": "a416a9a3236d4068a4aaee3897bf6530",
       "version_major": 2,
       "version_minor": 0
      },
      "text/plain": [
       "IntRangeSlider(value=(2000, 2024), continuous_update=False, description='Years', max=2024, min=2000)"
      ]
     },
     "metadata": {},
     "output_type": "display_data"
    },
    {
     "data": {
      "application/vnd.jupyter.widget-view+json": {
       "model_id": "a8717a0531aa450799a89e28b4816824",
       "version_major": 2,
       "version_minor": 0
      },
      "text/plain": [
       "Output()"
      ]
     },
     "metadata": {},
     "output_type": "display_data"
    }
   ],
   "source": [
    "import ipywidgets as widgets\n",
    "from IPython.display import display, clear_output\n",
    "from project.charts.maximum_drawdown_bar_chart import plot_maximum_drawdown_bar_chart\n",
    "\n",
    "# Create a range slider for selecting start and end years\n",
    "range_slider = widgets.IntRangeSlider(\n",
    "    value=[2000, 2024],  # Initial range for start and end years\n",
    "    min=2000,            # Minimum year\n",
    "    max=2024,            # Maximum year\n",
    "    step=1,              # Step size\n",
    "    description=\"Years\",\n",
    "    continuous_update=False,  # Update only after release of slider\n",
    "    orientation=\"horizontal\",  # Horizontal slider\n",
    "    readout=True,              # Show values\n",
    "    readout_format=\"d\"         # Integer format\n",
    ")\n",
    "\n",
    "# Function to dynamically update the plot\n",
    "def update_maximum_drawdown_plot(years):\n",
    "    \"\"\"\n",
    "    Update the maximum drawdown plot based on the selected range of years.\n",
    "    \"\"\"\n",
    "    start_year, end_year = years  # Unpack slider values\n",
    "    clear_output(wait=True)  # Clear previous output\n",
    "    plot_maximum_drawdown_bar_chart(start_year, end_year)  # Call the maximum drawdown plot function\n",
    "\n",
    "# Link the range slider to the update_plot function\n",
    "interactive_output = widgets.interactive_output(update_maximum_drawdown_plot, {'years': range_slider})\n",
    "\n",
    "# Display the slider and the interactive output\n",
    "display(range_slider, interactive_output)\n"
   ]
  },
  {
   "cell_type": "markdown",
   "id": "a5ce7d90",
   "metadata": {},
   "source": [
    "### 3.4 Value at risk"
   ]
  },
  {
   "cell_type": "markdown",
   "id": "ed83fecd",
   "metadata": {},
   "source": [
    "Value at Risk\n",
    "Value at Risk (VaR) is a financial metric used to estimate the potential loss of an investment portfolio over a specified time period at a given confidence level. It quantifies the worst-case loss expected under normal market conditions, providing a threshold below which losses are unlikely to fall. For example, a 5% VaR at a 95% confidence level indicates that there is only a 5% chance of the portfolio losing more than the calculated VaR. It is widely used in risk management to assess and control potential downside risks."
   ]
  },
  {
   "cell_type": "code",
   "execution_count": 7,
   "id": "185e96ee",
   "metadata": {},
   "outputs": [
    {
     "data": {
      "application/vnd.jupyter.widget-view+json": {
       "model_id": "8c0e16d352cf4fb992de97802ba8ecef",
       "version_major": 2,
       "version_minor": 0
      },
      "text/plain": [
       "IntRangeSlider(value=(2000, 2024), continuous_update=False, description='Years', max=2024, min=2000)"
      ]
     },
     "metadata": {},
     "output_type": "display_data"
    },
    {
     "data": {
      "application/vnd.jupyter.widget-view+json": {
       "model_id": "de752ff795e54b75982e51f5620f8309",
       "version_major": 2,
       "version_minor": 0
      },
      "text/plain": [
       "Output()"
      ]
     },
     "metadata": {},
     "output_type": "display_data"
    }
   ],
   "source": [
    "import ipywidgets as widgets\n",
    "from IPython.display import display, clear_output\n",
    "from project.charts.var_bar_chart import plot_var_bar_chart\n",
    "\n",
    "# Create a range slider for selecting start and end years\n",
    "range_slider = widgets.IntRangeSlider(\n",
    "    value=[2000, 2024],  # Initial range for start and end years\n",
    "    min=2000,            # Minimum year\n",
    "    max=2024,            # Maximum year\n",
    "    step=1,              # Step size\n",
    "    description=\"Years\",\n",
    "    continuous_update=False,  # Update only after releasing the slider\n",
    "    orientation=\"horizontal\",  # Horizontal slider\n",
    "    readout=True,              # Show values\n",
    "    readout_format=\"d\"         # Integer format\n",
    ")\n",
    "\n",
    "# Function to dynamically update the plot\n",
    "def update_var_plot(years):\n",
    "    \"\"\"\n",
    "    Update the VaR plot based on the selected range of years.\n",
    "    \"\"\"\n",
    "    start_year, end_year = years  # Unpack slider values\n",
    "    clear_output(wait=True)  # Clear previous output\n",
    "    plot_var_bar_chart(start_year, end_year)  # Call the VaR plot function\n",
    "\n",
    "# Link the range slider to the update_plot function\n",
    "interactive_output = widgets.interactive_output(update_var_plot, {'years': range_slider})\n",
    "\n",
    "# Display the slider and the interactive output\n",
    "display(range_slider, interactive_output)\n"
   ]
  }
 ],
 "metadata": {
  "kernelspec": {
   "display_name": "Python 3 (ipykernel)",
   "language": "python",
   "name": "python3"
  },
  "language_info": {
   "codemirror_mode": {
    "name": "ipython",
    "version": 3
   },
   "file_extension": ".py",
   "mimetype": "text/x-python",
   "name": "python",
   "nbconvert_exporter": "python",
   "pygments_lexer": "ipython3",
   "version": "3.12.3"
  },
  "toc": {
   "base_numbering": 1
  }
 },
 "nbformat": 4,
 "nbformat_minor": 5
}
