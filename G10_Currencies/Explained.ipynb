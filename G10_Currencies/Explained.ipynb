{
 "cells": [
  {
   "cell_type": "markdown",
   "id": "745863ba-a75b-4708-b684-eb37f7328681",
   "metadata": {
    "editable": true,
    "slideshow": {
     "slide_type": ""
    },
    "tags": []
   },
   "source": [
    "# Which of the G10 currencies is the riskiest to hold for a Swiss resident?"
   ]
  },
  {
   "cell_type": "markdown",
   "id": "60881dc8-beba-41b3-abc6-29ecee6958db",
   "metadata": {
    "editable": true,
    "slideshow": {
     "slide_type": ""
    },
    "tags": []
   },
   "source": [
    "## 1. Intro"
   ]
  },
  {
   "cell_type": "markdown",
   "id": "671f0313-e0c5-4a81-8a6e-ecc92325f22a",
   "metadata": {},
   "source": [
    "This notebook seeks to answer the question: Which of the G10 is the riskiest to hold for a Swiss resident? As such we will analyse exchange rates of  the Swiss Frank compared to the other currencies and find indicators that will help us answer this question. We will find that it depends on the definition of risk. The reasoning will be accompanied by graphs and charts to illustrate our findings. "
   ]
  },
  {
   "cell_type": "markdown",
   "id": "9205aea7-d615-4148-a135-65c5693532ed",
   "metadata": {},
   "source": [
    "**Please find an overview of the G10 currencies here:**\n",
    "\n",
    "United States Dollar (USD)\n",
    "\n",
    "Euro (EUR)\n",
    "\n",
    "Pound Sterling (GBP)\n",
    "\n",
    "Japanese Yen (JPY)\n",
    "\n",
    "Australian Dollar (AUD)\n",
    "\n",
    "New Zealand Dollar (NZD)\n",
    "\n",
    "Canadian Dollar (CAD)\n",
    "\n",
    "Swiss Franc (CHF)\n",
    "\n",
    "Norwegian Krone (NOK)\n",
    "\n",
    "Swedish Krona (SEK)"
   ]
  },
  {
   "cell_type": "markdown",
   "id": "3a2a33e6-cb67-4db7-9749-bfb1dbfa547f",
   "metadata": {
    "editable": true,
    "slideshow": {
     "slide_type": ""
    },
    "tags": []
   },
   "source": [
    "## 2. Data"
   ]
  },
  {
   "cell_type": "markdown",
   "id": "d137ff37-2a95-4f79-91b7-a13c706fe11b",
   "metadata": {
    "editable": true,
    "slideshow": {
     "slide_type": ""
    },
    "tags": []
   },
   "source": [
    "The **monthly** exchange rates were downloaded from investing.com starting from **01/01/2000** until **30/11/2024**. From an initial analysis you can see that the Swiss Frank (CHF) has appreciated against all currencies. You can find an overview of the exchange rates below:"
   ]
  },
  {
   "cell_type": "code",
   "execution_count": 1,
   "id": "befdb05a-6a79-4539-a1cc-f630cf55b920",
   "metadata": {},
   "outputs": [
    {
     "name": "stderr",
     "output_type": "stream",
     "text": [
      "\u001b[32m2024-12-04 17:48:15.922\u001b[0m | \u001b[1mINFO    \u001b[0m | \u001b[36mconfig\u001b[0m:\u001b[36m<module>\u001b[0m:\u001b[36m11\u001b[0m - \u001b[1mPROJ_ROOT path is: C:\\Users\\tanef\\OneDrive\\Desktop\\UZH HS 2024\\2_Digital Tools\\it-research-project\\G10_Currencies\u001b[0m\n",
      "\u001b[32m2024-12-04 17:48:15.931\u001b[0m | \u001b[1mINFO    \u001b[0m | \u001b[36mproject.config\u001b[0m:\u001b[36m<module>\u001b[0m:\u001b[36m11\u001b[0m - \u001b[1mPROJ_ROOT path is: C:\\Users\\tanef\\OneDrive\\Desktop\\UZH HS 2024\\2_Digital Tools\\it-research-project\\G10_Currencies\u001b[0m\n"
     ]
    },
    {
     "data": {
      "application/vnd.jupyter.widget-view+json": {
       "model_id": "d86a9e1606384b6ca23da7b126a9c805",
       "version_major": 2,
       "version_minor": 0
      },
      "text/plain": [
       "interactive(children=(Dropdown(description='Currency:', options=('CHF_AUD Historical Data', 'CHF_CAD Historica…"
      ]
     },
     "metadata": {},
     "output_type": "display_data"
    },
    {
     "data": {
      "text/plain": [
       "<function project.charts.exchange_rates.plot_currency_chart(currency)>"
      ]
     },
     "execution_count": 1,
     "metadata": {},
     "output_type": "execute_result"
    }
   ],
   "source": [
    "from ipywidgets import interact, Dropdown\n",
    "from project.charts.exchange_rates import plot_currency_chart\n",
    "from project import config\n",
    "\n",
    "# List available currencies based on files in the processed data directory\n",
    "currency_files = config.PROCESSED_DATA_DIR.glob(\"*.csv\")\n",
    "currencies = [file.stem for file in currency_files]\n",
    "\n",
    "# Create a dropdown menu for currency selection\n",
    "dropdown = Dropdown(\n",
    "    options=currencies,\n",
    "    description=\"Currency:\",\n",
    "    value=currencies[0] if currencies else None,\n",
    ")\n",
    "\n",
    "# Link the dropdown to the plot function\n",
    "interact(plot_currency_chart, currency=dropdown)\n",
    "\n"
   ]
  },
  {
   "cell_type": "markdown",
   "id": "deb84b38-7398-4e90-84be-996089e3843f",
   "metadata": {},
   "source": [
    "## 3. Analysis"
   ]
  },
  {
   "cell_type": "markdown",
   "id": "af48b26d-89a7-40cf-a18c-d588166e989d",
   "metadata": {},
   "source": [
    "In this section we analyse a few financial indicators that depict risk. "
   ]
  },
  {
   "cell_type": "markdown",
   "id": "3aabedf7-b82e-4fd7-9cda-23c3dcce2dab",
   "metadata": {},
   "source": [
    "### 3.1 Depreciation\n",
    "\n",
    "This section shows how much you would have lost, if you bought a foreign currency with CHF. As you can tell by changing the year, the \"riskiest\" currency changes dependig on which year you invested. Generally it seems to pivot between the Norwegian Krone (NOK) and the Japanese Yen (JPY). Please find a bar chart below: "
   ]
  },
  {
   "cell_type": "code",
   "execution_count": 1,
   "id": "cd5bfed4-57e9-4d7f-b3b7-afa748ea51e1",
   "metadata": {},
   "outputs": [
    {
     "data": {
      "application/vnd.jupyter.widget-view+json": {
       "model_id": "d05669a71bab45b0aa713f27f598249e",
       "version_major": 2,
       "version_minor": 0
      },
      "text/plain": [
       "interactive(children=(IntSlider(value=2012, description='year', max=2024, min=2000), Output()), _dom_classes=(…"
      ]
     },
     "metadata": {},
     "output_type": "display_data"
    },
    {
     "data": {
      "text/plain": [
       "<function project.charts.depreciation_bar_chart.plot_depreciation_bar_chart(year)>"
      ]
     },
     "execution_count": 1,
     "metadata": {},
     "output_type": "execute_result"
    }
   ],
   "source": [
    "from ipywidgets import interact, Dropdown, fixed\n",
    "from project.charts.depreciation_bar_chart import plot_depreciation_bar_chart\n",
    "from project import config\n",
    "\n",
    "# Create an interactive slider for the years 2000–2024\n",
    "interact(plot_depreciation_bar_chart, year=(2000, 2024))"
   ]
  },
  {
   "cell_type": "code",
   "execution_count": null,
   "id": "1b570785-7e7a-45af-a957-e8bca75dcba3",
   "metadata": {},
   "outputs": [],
   "source": []
  },
  {
   "cell_type": "code",
   "execution_count": null,
   "id": "9c3f296e-8768-4f24-8b22-1f8be83325c6",
   "metadata": {},
   "outputs": [],
   "source": []
  }
 ],
 "metadata": {
  "kernelspec": {
   "display_name": "Python 3 (ipykernel)",
   "language": "python",
   "name": "python3"
  },
  "language_info": {
   "codemirror_mode": {
    "name": "ipython",
    "version": 3
   },
   "file_extension": ".py",
   "mimetype": "text/x-python",
   "name": "python",
   "nbconvert_exporter": "python",
   "pygments_lexer": "ipython3",
   "version": "3.13.0"
  },
  "toc": {
   "base_numbering": 1
  }
 },
 "nbformat": 4,
 "nbformat_minor": 5
}
