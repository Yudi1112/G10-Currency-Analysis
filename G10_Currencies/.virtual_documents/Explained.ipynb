

















from ipywidgets import interact, Dropdown
from project.charts.exchange_rates import plot_currency_chart
from project import config

# List available currencies based on files in the processed data directory
currency_files = config.PROCESSED_DATA_DIR.glob("*.csv")
currencies = [file.stem for file in currency_files]

# Create a dropdown menu for currency selection
dropdown = Dropdown(
    options=currencies,
    description="Currency:",
    value=currencies[0] if currencies else None,
)

# Link the dropdown to the plot function
interact(plot_currency_chart, currency=dropdown)













import ipywidgets as widgets
from IPython.display import display, clear_output
from project.charts.depreciation_bar_chart import plot_depreciation_bar_chart

# Create a range slider for selecting start and end years
range_slider = widgets.IntRangeSlider(
    value=[2000, 2024],  # Initial range for start and end years
    min=2000,            # Minimum year
    max=2024,            # Maximum year
    step=1,              # Step size
    description="Years",
    continuous_update=False,  # Update only after release of slider
    orientation="horizontal",  # Horizontal slider
    readout=True,              # Show values
    readout_format="d"         # Integer format
)

# Function to dynamically update the plot
def update_plot(years):
    """
    Update the plot based on the selected range of years.
    """
    start_year, end_year = years  # Unpack slider values
    clear_output(wait=True)  # Clear previous output
    plot_depreciation_bar_chart(start_year, end_year)  # Call the plot function

# Link the range slider to the update_plot function
interactive_output = widgets.interactive_output(update_plot, {'years': range_slider})

# Display the slider and the interactive output
display(range_slider, interactive_output)









import ipywidgets as widgets
from IPython.display import display, clear_output
from project.charts.volatility_bar_chart import plot_volatility_bar_chart

# Create a range slider for selecting start and end years
range_slider = widgets.IntRangeSlider(
    value=[2000, 2024],  # Initial range for start and end years
    min=2000,            # Minimum year
    max=2024,            # Maximum year
    step=1,              # Step size
    description="Years",
    continuous_update=False,  # Update only after release of slider
    orientation="horizontal",  # Horizontal slider
    readout=True,              # Show values
    readout_format="d"         # Integer format
)

# Function to dynamically update the plot
def update_volatility_plot(years):
    """
    Update the plot based on the selected range of years.
    """
    start_year, end_year = years  # Unpack slider values
    clear_output(wait=True)  # Clear previous output
    plot_volatility_bar_chart(start_year, end_year)  # Call the plot function

# Link the range slider to the update_plot function
interactive_output = widgets.interactive_output(update_volatility_plot, {'years': range_slider})

# Display the slider and the interactive output
display(range_slider, interactive_output)






import sys
import pandas as pd
from pathlib import Path
import matplotlib.pyplot as plt
from ipywidgets import interact, Dropdown
from IPython.display import display

# Add the project root to sys.path
PROJECT_ROOT = Path(__file__).resolve().parent.parent
sys.path.append(str(PROJECT_ROOT))

from config import PROCESSED_DATA_DIR
from loguru import logger

def calculate_maximum_drawdown_with_chart(currency):
    """
    Calculate and plot the maximum drawdown for the selected currency.
    """
    try:
        # Load the CSV file for the selected currency
        csv_file = PROCESSED_DATA_DIR / f"{currency}.csv"
        df = pd.read_csv(csv_file, parse_dates=["Date"])
        df = df.sort_values(by="Date")  # Chronological sorting

        # Calculate Rolling Max and Drawdown
        df["Rolling Max"] = df["Price"].cummax()
        df["Drawdown"] = (df["Price"] - df["Rolling Max"]) / df["Rolling Max"] * 100

        # Find the maximum drawdown
        max_drawdown = df["Drawdown"].min()
        drawdown_index = df["Drawdown"].idxmin()  # Index of the max drawdown
        drawdown_date = df.loc[drawdown_index, "Date"]  # Date of max drawdown
        rolling_max_at_drawdown = df.loc[drawdown_index, "Rolling Max"]  # Rolling Max at drawdown

        # Find the drawdown period
        drawdown_start_date = df[df["Rolling Max"] == rolling_max_at_drawdown].iloc[0]["Date"]
        drawdown_end_date = drawdown_date

        # Plot the price and drawdown period
        plt.figure(figsize=(12, 6))
        plt.plot(df["Date"], df["Price"], label="Price", color="blue")
        plt.axvspan(drawdown_start_date, drawdown_end_date, color="red", alpha=0.3, label="Max Drawdown Period")

        # Add titles and labels
        plt.title(f"Kursverlauf mit maximalem Drawdown\nMax Drawdown: {max_drawdown:.2f}%", fontsize=14)
        plt.xlabel("Date")
        plt.ylabel("Price")
        plt.legend()
        plt.grid()

        # Show the plot
        plt.show()

        # Display the max drawdown percentage
        print(f"Maximum Drawdown for {currency}: {max_drawdown:.2f}%")
    except Exception as e:
        logger.error(f"Fehler bei der Verarbeitung der Datei {currency}.csv: {e}")

# Get the list of available currencies
currency_files = PROCESSED_DATA_DIR.glob("*.csv")
currencies = [file.stem for file in currency_files]

# Create a dropdown menu for currency selection
dropdown = Dropdown(
    options=currencies,
    description="Currency:",
    value=currencies[0] if currencies else None,
)

# Use the interact widget to link the dropdown to the function
interact(calculate_maximum_drawdown_with_chart, currency=dropdown)






import sys
import pandas as pd
import numpy as np
import matplotlib.pyplot as plt
from ipywidgets import interact, Dropdown
from pathlib import Path

# Add the project root to sys.path
PROJECT_ROOT = Path(__file__).resolve().parent.parent
sys.path.append(str(PROJECT_ROOT))

from loguru import logger
from config import PROCESSED_DATA_DIR

def calculate_and_plot_var(csv_file, confidence_level=0.95):
    """
    Calculate the Value at Risk (VaR) and plot the daily returns with the VaR threshold.
    
    Args:
        csv_file (str): Path to the CSV file containing price data.
        confidence_level (float): Confidence level for VaR calculation (default is 0.95).
    """
    # Daten laden und sortieren
    df = pd.read_csv(csv_file, parse_dates=["Date"])
    df = df.sort_values(by="Date")
    
    # Tägliche Renditen berechnen
    df["Return"] = df["Price"].pct_change()
    returns = df["Return"].dropna()

    # VaR berechnen
    var_percentile = (1 - confidence_level) * 100
    var = np.percentile(returns, var_percentile)
    var_percentage = var * 100

    # Plot erstellen
    plt.figure(figsize=(12, 6))
    plt.bar(df["Date"][1:], returns, color="blue", alpha=0.5, label="Daily Returns")
    plt.axhline(y=var, color="red", linestyle="--", label=f"VaR ({confidence_level*100:.0f}%): {var_percentage:.2f}%")
    
    # Titel und Labels
    plt.title(f"Value at Risk (VaR) and Daily Returns for {csv_file.stem}", fontsize=14)
    plt.xlabel("Date")
    plt.ylabel("Daily Returns")
    plt.legend()
    plt.grid(axis="y", linestyle="--", alpha=0.7)
    
    # Zeige den Plot
    plt.show()

    # VaR als Ergebnis zurückgeben
    return var_percentage

def create_var_widget(confidence_level=0.95):
    """
    Create a widget to select currencies and display their VaR plots.
    
    Args:
        confidence_level (float): Confidence level for VaR calculation (default is 0.95).
    """
    # Verfügbare Währungen aus dem PROCESSED_DATA_DIR ermitteln
    currency_files = PROCESSED_DATA_DIR.glob("*.csv")
    currencies = [file.stem for file in currency_files]

    # Dropdown für die Auswahl der Währung
    dropdown = Dropdown(
        options=currencies,
        description="Currency:",
        value=currencies[0] if currencies else None,
    )

    def update_plot(selected_currency):
        """
        Callback-Funktion, um den Plot basierend auf der ausgewählten Währung zu aktualisieren.
        """
        if selected_currency:
            csv_file = PROCESSED_DATA_DIR / f"{selected_currency}.csv"
            if csv_file.exists():
                calculate_and_plot_var(csv_file, confidence_level)
            else:
                print(f"File not found for {selected_currency}")
    
    # Interaktive Verknüpfung des Dropdowns mit der Plot-Funktion
    interact(update_plot, selected_currency=dropdown)

if __name__ == "__main__":
    create_var_widget(confidence_level=0.95)

