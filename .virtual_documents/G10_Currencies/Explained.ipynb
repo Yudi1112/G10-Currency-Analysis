

















from ipywidgets import interact, Dropdown
from project.charts.exchange_rates import plot_currency_chart
from project import config

# List available currencies based on files in the processed data directory
currency_files = config.PROCESSED_DATA_DIR.glob("*.csv")
currencies = [file.stem for file in currency_files]

# Create a dropdown menu for currency selection
dropdown = Dropdown(
    options=currencies,
    description="Currency:",
    value=currencies[0] if currencies else None,
)

# Link the dropdown to the plot function
interact(plot_currency_chart, currency=dropdown)













import ipywidgets as widgets
from IPython.display import display, clear_output
from project.charts.depreciation_bar_chart import plot_depreciation_bar_chart

# Create a range slider for selecting start and end years
range_slider = widgets.IntRangeSlider(
    value=[2000, 2024],  # Initial range for start and end years
    min=2000,            # Minimum year
    max=2024,            # Maximum year
    step=1,              # Step size
    description="Years",
    continuous_update=False,  # Update only after release of slider
    orientation="horizontal",  # Horizontal slider
    readout=True,              # Show values
    readout_format="d"         # Integer format
)

# Function to dynamically update the plot
def update_plot(years):
    """
    Update the plot based on the selected range of years.
    """
    start_year, end_year = years  # Unpack slider values
    clear_output(wait=True)  # Clear previous output
    plot_depreciation_bar_chart(start_year, end_year)  # Call the plot function

# Link the range slider to the update_plot function
interactive_output = widgets.interactive_output(update_plot, {'years': range_slider})

# Display the slider and the interactive output
display(range_slider, interactive_output)









import ipywidgets as widgets
from IPython.display import display, clear_output
from project.charts.volatility_bar_chart import plot_volatility_bar_chart

# Create a range slider for selecting start and end years
range_slider = widgets.IntRangeSlider(
    value=[2000, 2024],  # Initial range for start and end years
    min=2000,            # Minimum year
    max=2024,            # Maximum year
    step=1,              # Step size
    description="Years",
    continuous_update=False,  # Update only after release of slider
    orientation="horizontal",  # Horizontal slider
    readout=True,              # Show values
    readout_format="d"         # Integer format
)

# Function to dynamically update the plot
def update_volatility_plot(years):
    """
    Update the plot based on the selected range of years.
    """
    start_year, end_year = years  # Unpack slider values
    clear_output(wait=True)  # Clear previous output
    plot_volatility_bar_chart(start_year, end_year)  # Call the plot function

# Link the range slider to the update_plot function
interactive_output = widgets.interactive_output(update_volatility_plot, {'years': range_slider})

# Display the slider and the interactive output
display(range_slider, interactive_output)








import ipywidgets as widgets
from IPython.display import display, clear_output
from project.charts.maximum_drawdown_bar_chart import plot_maximum_drawdown_bar_chart

# Create a range slider for selecting start and end years
range_slider = widgets.IntRangeSlider(
    value=[2000, 2024],  # Initial range for start and end years
    min=2000,            # Minimum year
    max=2024,            # Maximum year
    step=1,              # Step size
    description="Years",
    continuous_update=False,  # Update only after release of slider
    orientation="horizontal",  # Horizontal slider
    readout=True,              # Show values
    readout_format="d"         # Integer format
)

# Function to dynamically update the plot
def update_maximum_drawdown_plot(years):
    """
    Update the maximum drawdown plot based on the selected range of years.
    """
    start_year, end_year = years  # Unpack slider values
    clear_output(wait=True)  # Clear previous output
    plot_maximum_drawdown_bar_chart(start_year, end_year)  # Call the maximum drawdown plot function

# Link the range slider to the update_plot function
interactive_output = widgets.interactive_output(update_maximum_drawdown_plot, {'years': range_slider})

# Display the slider and the interactive output
display(range_slider, interactive_output)









import ipywidgets as widgets
from IPython.display import display, clear_output
from project.charts.var_bar_chart import plot_var_bar_chart

# Create a range slider for selecting start and end years
range_slider = widgets.IntRangeSlider(
    value=[2000, 2024],  # Initial range for start and end years
    min=2000,            # Minimum year
    max=2024,            # Maximum year
    step=1,              # Step size
    description="Years",
    continuous_update=False,  # Update only after releasing the slider
    orientation="horizontal",  # Horizontal slider
    readout=True,              # Show values
    readout_format="d"         # Integer format
)

# Function to dynamically update the plot
def update_var_plot(years):
    """
    Update the VaR plot based on the selected range of years.
    """
    start_year, end_year = years  # Unpack slider values
    clear_output(wait=True)  # Clear previous output
    plot_var_bar_chart(start_year, end_year)  # Call the VaR plot function

# Link the range slider to the update_plot function
interactive_output = widgets.interactive_output(update_var_plot, {'years': range_slider})

# Display the slider and the interactive output
display(range_slider, interactive_output)

